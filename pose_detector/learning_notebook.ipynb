{
 "cells": [
  {
   "cell_type": "code",
   "execution_count": 17,
   "metadata": {},
   "outputs": [],
   "source": [
    "import mediapipe as mp\n",
    "from mediapipe.tasks import python\n",
    "from mediapipe.tasks.python import vision\n",
    "\n",
    "from mediapipe import solutions\n",
    "from mediapipe.framework.formats import landmark_pb2\n",
    "\n",
    "import numpy as np\n",
    "import cv2 as cv\n",
    "\n",
    "import yaml\n",
    "\n",
    "# from utils.tools import draw_landmarks_on_image"
   ]
  },
  {
   "cell_type": "code",
   "execution_count": 21,
   "metadata": {},
   "outputs": [],
   "source": [
    "def draw_landmarks_on_image(rgb_image, detection_result):\n",
    "        pose_landmarks_list = detection_result.pose_landmarks\n",
    "        annotated_image = np.copy(rgb_image)\n",
    "\n",
    "        for idx in range(len(pose_landmarks_list)):\n",
    "            pose_landmarks = pose_landmarks_list[idx]\n",
    "\n",
    "            pose_landmarks_proto = landmark_pb2.NormalizedLandmarkList()\n",
    "            pose_landmarks_proto.landmark.extend([\n",
    "                landmark_pb2.NormalizedLandmark(x=landmark.x, y=landmark.y, z=landmark.z) for landmark in pose_landmarks\n",
    "            ])\n",
    "\n",
    "            solutions.drawing_utils.draw_landmarks(\n",
    "                annotated_image,\n",
    "                pose_landmarks_proto,\n",
    "                solutions.pose.POSE_CONNECTIONS,\n",
    "                solutions.drawing_styles.get_default_pose_landmarks_style()\n",
    "            )\n",
    "\n",
    "        return annotated_image"
   ]
  },
  {
   "cell_type": "code",
   "execution_count": 19,
   "metadata": {},
   "outputs": [
    {
     "data": {
      "text/plain": [
       "-1"
      ]
     },
     "execution_count": 19,
     "metadata": {},
     "output_type": "execute_result"
    }
   ],
   "source": [
    "with open(\"../settings.yaml\", \"r\") as file_object:\n",
    "    cfg = yaml.load(file_object, Loader=yaml.SafeLoader)\n",
    "\n",
    "img_path = \"../\" + cfg['paths']['media'] + \"me_test_1.jpg\"\n",
    "img = cv.imread(img_path)\n",
    "\n",
    "cv.imshow('Test Original Image', img)\n",
    "cv.waitKey(0)"
   ]
  },
  {
   "cell_type": "code",
   "execution_count": 44,
   "metadata": {},
   "outputs": [
    {
     "name": "stdout",
     "output_type": "stream",
     "text": [
      "Landmark(x=0.0013915617018938065, y=-0.6862940192222595, z=-0.27578994631767273, visibility=0.9999791383743286, presence=0.9999885559082031)\n"
     ]
    }
   ],
   "source": [
    "model_path = \"../\" + cfg['paths']['models']['mediapipe'] + \"pose_landmarker_full.task\"\n",
    "\n",
    "base_options  = python.BaseOptions(model_asset_path=model_path)\n",
    "options = vision.PoseLandmarkerOptions(\n",
    "    base_options=base_options,\n",
    "    output_segmentation_masks=True,\n",
    "    running_mode=vision.RunningMode.IMAGE\n",
    ")\n",
    "\n",
    "detector = vision.PoseLandmarker.create_from_options(options)\n",
    "\n",
    "image = mp.Image.create_from_file(img_path)\n",
    "\n",
    "detection_result = detector.detect(image)\n",
    "\n",
    "annotated_image = draw_landmarks_on_image(image.numpy_view(), detection_result)\n",
    "# cv.imshow(\"Predicted Pose\", annotated_image)\n",
    "# cv.waitKey(0)\n",
    "\n",
    "print(detection_result.pose_world_landmarks[0][0])\n",
    "\n"
   ]
  },
  {
   "cell_type": "markdown",
   "metadata": {},
   "source": [
    "## JSON testing"
   ]
  },
  {
   "cell_type": "code",
   "execution_count": 46,
   "metadata": {},
   "outputs": [],
   "source": [
    "joint_coord = {}\n",
    "\n",
    "joint_coord['00_nose'] = {}\n",
    "joint_coord['00_nose'][\"x\"] = detection_result.pose_world_landmarks[0][0].x\n",
    "joint_coord['00_nose'][\"y\"] = detection_result.pose_world_landmarks[0][0].y\n",
    "joint_coord['00_nose'][\"z\"] = detection_result.pose_world_landmarks[0][0].z\n",
    "\n",
    "joint_coord['01_l_eye'] = {}\n",
    "joint_coord['01_l_eye'][\"x\"] = detection_result.pose_world_landmarks[0][1].x\n",
    "joint_coord['01_l_eye'][\"y\"] = detection_result.pose_world_landmarks[0][1].y\n",
    "joint_coord['01_l_eye'][\"z\"] = detection_result.pose_world_landmarks[0][1].z\n",
    "\n",
    "joint_coord['02_l_eye'] = {}\n",
    "joint_coord['02_l_eye'][\"x\"] = detection_result.pose_world_landmarks[0][2].x\n",
    "joint_coord['02_l_eye'][\"y\"] = detection_result.pose_world_landmarks[0][2].y\n",
    "joint_coord['02_l_eye'][\"z\"] = detection_result.pose_world_landmarks[0][2].z\n",
    "\n",
    "joint_coord['03_l_eye'] = {}\n",
    "joint_coord['03_l_eye'][\"x\"] = detection_result.pose_world_landmarks[0][3].x\n",
    "joint_coord['03_l_eye'][\"y\"] = detection_result.pose_world_landmarks[0][3].y\n",
    "joint_coord['03_l_eye'][\"z\"] = detection_result.pose_world_landmarks[0][3].z\n",
    "\n",
    "joint_coord['04_r_eye'] = {}\n",
    "joint_coord['04_r_eye'][\"x\"] = detection_result.pose_world_landmarks[0][4].x\n",
    "joint_coord['04_r_eye'][\"y\"] = detection_result.pose_world_landmarks[0][4].y\n",
    "joint_coord['04_r_eye'][\"z\"] = detection_result.pose_world_landmarks[0][4].z\n",
    "\n",
    "joint_coord['05_r_eye'] = {}\n",
    "joint_coord['05_r_eye'][\"x\"] = detection_result.pose_world_landmarks[0][5].x\n",
    "joint_coord['05_r_eye'][\"y\"] = detection_result.pose_world_landmarks[0][5].y\n",
    "joint_coord['05_r_eye'][\"z\"] = detection_result.pose_world_landmarks[0][5].z\n",
    "\n",
    "joint_coord['06_r_eye'] = {}\n",
    "joint_coord['06_r_eye'][\"x\"] = detection_result.pose_world_landmarks[0][6].x\n",
    "joint_coord['06_r_eye'][\"y\"] = detection_result.pose_world_landmarks[0][6].y\n",
    "joint_coord['06_r_eye'][\"z\"] = detection_result.pose_world_landmarks[0][6].z\n",
    "\n",
    "joint_coord['07_l_ear'] = {}\n",
    "joint_coord['07_l_ear'][\"x\"] = detection_result.pose_world_landmarks[0][7].x\n",
    "joint_coord['07_l_ear'][\"y\"] = detection_result.pose_world_landmarks[0][7].y\n",
    "joint_coord['07_l_ear'][\"z\"] = detection_result.pose_world_landmarks[0][7].z\n",
    "\n",
    "joint_coord['08_r_ear'] = {}\n",
    "joint_coord['08_r_ear'][\"x\"] = detection_result.pose_world_landmarks[0][8].x\n",
    "joint_coord['08_r_ear'][\"y\"] = detection_result.pose_world_landmarks[0][8].y\n",
    "joint_coord['08_r_ear'][\"z\"] = detection_result.pose_world_landmarks[0][8].z\n",
    "\n",
    "joint_coord['09_l_mouth'] = {}\n",
    "joint_coord['09_l_mouth'][\"x\"] = detection_result.pose_world_landmarks[0][9].x\n",
    "joint_coord['09_l_mouth'][\"y\"] = detection_result.pose_world_landmarks[0][9].y\n",
    "joint_coord['09_l_mouth'][\"z\"] = detection_result.pose_world_landmarks[0][9].z\n",
    "\n",
    "joint_coord['10_r_mouth'] = {}\n",
    "joint_coord['10_r_mouth'][\"x\"] = detection_result.pose_world_landmarks[0][10].x\n",
    "joint_coord['10_r_mouth'][\"y\"] = detection_result.pose_world_landmarks[0][10].y\n",
    "joint_coord['10_r_mouth'][\"z\"] = detection_result.pose_world_landmarks[0][10].z\n",
    "\n",
    "joint_coord['11_l_shoulder'] = {}\n",
    "joint_coord['11_l_shoulder'][\"x\"] = detection_result.pose_world_landmarks[0][11].x\n",
    "joint_coord['11_l_shoulder'][\"y\"] = detection_result.pose_world_landmarks[0][11].y\n",
    "joint_coord['11_l_shoulder'][\"z\"] = detection_result.pose_world_landmarks[0][11].z\n",
    "\n",
    "joint_coord['12_r_shoulder'] = {}\n",
    "joint_coord['12_r_shoulder'][\"x\"] = detection_result.pose_world_landmarks[0][12].x\n",
    "joint_coord['12_r_shoulder'][\"y\"] = detection_result.pose_world_landmarks[0][12].y\n",
    "joint_coord['12_r_shoulder'][\"z\"] = detection_result.pose_world_landmarks[0][12].z\n",
    "\n",
    "joint_coord['13_l_elbow'] = {}\n",
    "joint_coord['13_l_elbow'][\"x\"] = detection_result.pose_world_landmarks[0][13].x\n",
    "joint_coord['13_l_elbow'][\"y\"] = detection_result.pose_world_landmarks[0][13].y\n",
    "joint_coord['13_l_elbow'][\"z\"] = detection_result.pose_world_landmarks[0][13].z\n",
    "\n",
    "joint_coord['14_r_elbow'] = {}\n",
    "joint_coord['14_r_elbow'][\"x\"] = detection_result.pose_world_landmarks[0][14].x\n",
    "joint_coord['14_r_elbow'][\"y\"] = detection_result.pose_world_landmarks[0][14].y\n",
    "joint_coord['14_r_elbow'][\"z\"] = detection_result.pose_world_landmarks[0][14].z\n",
    "\n",
    "joint_coord['15_l_wrist'] = {}\n",
    "joint_coord['15_l_wrist'][\"x\"] = detection_result.pose_world_landmarks[0][15].x\n",
    "joint_coord['15_l_wrist'][\"y\"] = detection_result.pose_world_landmarks[0][15].y\n",
    "joint_coord['15_l_wrist'][\"z\"] = detection_result.pose_world_landmarks[0][15].z\n",
    "\n",
    "joint_coord['16_r_wrist'] = {}\n",
    "joint_coord['16_r_wrist'][\"x\"] = detection_result.pose_world_landmarks[0][16].x\n",
    "joint_coord['16_r_wrist'][\"y\"] = detection_result.pose_world_landmarks[0][16].y\n",
    "joint_coord['16_r_wrist'][\"z\"] = detection_result.pose_world_landmarks[0][16].z\n",
    "\n",
    "joint_coord['17_l_downpalm'] = {}\n",
    "joint_coord['17_l_downpalm'][\"x\"] = detection_result.pose_world_landmarks[0][17].x\n",
    "joint_coord['17_l_downpalm'][\"y\"] = detection_result.pose_world_landmarks[0][17].y\n",
    "joint_coord['17_l_downpalm'][\"z\"] = detection_result.pose_world_landmarks[0][17].z\n",
    "\n",
    "joint_coord['18_r_downpalm'] = {}\n",
    "joint_coord['18_r_downpalm'][\"x\"] = detection_result.pose_world_landmarks[0][18].x\n",
    "joint_coord['18_r_downpalm'][\"y\"] = detection_result.pose_world_landmarks[0][18].y\n",
    "joint_coord['18_r_downpalm'][\"z\"] = detection_result.pose_world_landmarks[0][18].z\n",
    "\n",
    "joint_coord['19_l_uppalm'] = {}\n",
    "joint_coord['19_l_uppalm'][\"x\"] = detection_result.pose_world_landmarks[0][19].x\n",
    "joint_coord['19_l_uppalm'][\"y\"] = detection_result.pose_world_landmarks[0][19].y\n",
    "joint_coord['19_l_uppalm'][\"z\"] = detection_result.pose_world_landmarks[0][19].z\n",
    "\n",
    "joint_coord['20_r_uppalm'] = {}\n",
    "joint_coord['20_r_uppalm'][\"x\"] = detection_result.pose_world_landmarks[0][20].x\n",
    "joint_coord['20_r_uppalm'][\"y\"] = detection_result.pose_world_landmarks[0][20].y\n",
    "joint_coord['20_r_uppalm'][\"z\"] = detection_result.pose_world_landmarks[0][20].z\n",
    "\n",
    "joint_coord['21_l_thumb'] = {}\n",
    "joint_coord['21_l_thumb'][\"x\"] = detection_result.pose_world_landmarks[0][21].x\n",
    "joint_coord['21_l_thumb'][\"y\"] = detection_result.pose_world_landmarks[0][21].y\n",
    "joint_coord['21_l_thumb'][\"z\"] = detection_result.pose_world_landmarks[0][21].z\n",
    "\n",
    "joint_coord['22_r_thumb'] = {}\n",
    "joint_coord['22_r_thumb'][\"x\"] = detection_result.pose_world_landmarks[0][22].x\n",
    "joint_coord['22_r_thumb'][\"y\"] = detection_result.pose_world_landmarks[0][22].y\n",
    "joint_coord['22_r_thumb'][\"z\"] = detection_result.pose_world_landmarks[0][22].z\n",
    "\n",
    "joint_coord['23_l_pelvis'] = {}\n",
    "joint_coord['23_l_pelvis'][\"x\"] = detection_result.pose_world_landmarks[0][23].x\n",
    "joint_coord['23_l_pelvis'][\"y\"] = detection_result.pose_world_landmarks[0][23].y\n",
    "joint_coord['23_l_pelvis'][\"z\"] = detection_result.pose_world_landmarks[0][23].z\n",
    "\n",
    "joint_coord['24_r_pelvis'] = {}\n",
    "joint_coord['24_r_pelvis'][\"x\"] = detection_result.pose_world_landmarks[0][24].x\n",
    "joint_coord['24_r_pelvis'][\"y\"] = detection_result.pose_world_landmarks[0][24].y\n",
    "joint_coord['24_r_pelvis'][\"z\"] = detection_result.pose_world_landmarks[0][24].z\n",
    "\n",
    "joint_coord['25_l_knee'] = {}\n",
    "joint_coord['25_l_knee'][\"x\"] = detection_result.pose_world_landmarks[0][25].x\n",
    "joint_coord['25_l_knee'][\"y\"] = detection_result.pose_world_landmarks[0][25].y\n",
    "joint_coord['25_l_knee'][\"z\"] = detection_result.pose_world_landmarks[0][25].z\n",
    "\n",
    "joint_coord['26_r_knee'] = {}\n",
    "joint_coord['26_r_knee'][\"x\"] = detection_result.pose_world_landmarks[0][26].x\n",
    "joint_coord['26_r_knee'][\"y\"] = detection_result.pose_world_landmarks[0][26].y\n",
    "joint_coord['26_r_knee'][\"z\"] = detection_result.pose_world_landmarks[0][26].z\n",
    "\n",
    "joint_coord['27_l_ankle'] = {}\n",
    "joint_coord['27_l_ankle'][\"x\"] = detection_result.pose_world_landmarks[0][27].x\n",
    "joint_coord['27_l_ankle'][\"y\"] = detection_result.pose_world_landmarks[0][27].y\n",
    "joint_coord['27_l_ankle'][\"z\"] = detection_result.pose_world_landmarks[0][27].z\n",
    "\n",
    "joint_coord['28_r_ankle'] = {}\n",
    "joint_coord['28_r_ankle'][\"x\"] = detection_result.pose_world_landmarks[0][28].x\n",
    "joint_coord['28_r_ankle'][\"y\"] = detection_result.pose_world_landmarks[0][28].y\n",
    "joint_coord['28_r_ankle'][\"z\"] = detection_result.pose_world_landmarks[0][28].z\n",
    "\n",
    "joint_coord['29_l_heel'] = {}\n",
    "joint_coord['29_l_heel'][\"x\"] = detection_result.pose_world_landmarks[0][29].x\n",
    "joint_coord['29_l_heel'][\"y\"] = detection_result.pose_world_landmarks[0][29].y\n",
    "joint_coord['29_l_heel'][\"z\"] = detection_result.pose_world_landmarks[0][29].z\n",
    "\n",
    "joint_coord['30_r_heel'] = {}\n",
    "joint_coord['30_r_heel'][\"x\"] = detection_result.pose_world_landmarks[0][30].x\n",
    "joint_coord['30_r_heel'][\"y\"] = detection_result.pose_world_landmarks[0][30].y\n",
    "joint_coord['30_r_heel'][\"z\"] = detection_result.pose_world_landmarks[0][30].z\n",
    "\n",
    "joint_coord['31_l_toe'] = {}\n",
    "joint_coord['31_l_toe'][\"x\"] = detection_result.pose_world_landmarks[0][31].x\n",
    "joint_coord['31_l_toe'][\"y\"] = detection_result.pose_world_landmarks[0][31].y\n",
    "joint_coord['31_l_toe'][\"z\"] = detection_result.pose_world_landmarks[0][31].z\n",
    "\n",
    "joint_coord['32_r_toe'] = {}\n",
    "joint_coord['32_r_toe'][\"x\"] = detection_result.pose_world_landmarks[0][32].x\n",
    "joint_coord['32_r_toe'][\"y\"] = detection_result.pose_world_landmarks[0][32].y\n",
    "joint_coord['32_r_toe'][\"z\"] = detection_result.pose_world_landmarks[0][32].z\n"
   ]
  },
  {
   "cell_type": "code",
   "execution_count": 58,
   "metadata": {},
   "outputs": [
    {
     "ename": "ModuleNotFoundError",
     "evalue": "No module named 'cfg_load'",
     "output_type": "error",
     "traceback": [
      "\u001b[1;31m---------------------------------------------------------------------------\u001b[0m",
      "\u001b[1;31mModuleNotFoundError\u001b[0m                       Traceback (most recent call last)",
      "Cell \u001b[1;32mIn[58], line 1\u001b[0m\n\u001b[1;32m----> 1\u001b[0m \u001b[38;5;28;01mfrom\u001b[39;00m \u001b[38;5;21;01mutils\u001b[39;00m\u001b[38;5;21;01m.\u001b[39;00m\u001b[38;5;21;01mtools\u001b[39;00m \u001b[38;5;28;01mimport\u001b[39;00m joints_to_json\n\u001b[0;32m      2\u001b[0m \u001b[38;5;28;01mfrom\u001b[39;00m \u001b[38;5;21;01mutils\u001b[39;00m\u001b[38;5;21;01m.\u001b[39;00m\u001b[38;5;21;01mcfg_load\u001b[39;00m \u001b[38;5;28;01mimport\u001b[39;00m cfg\n\u001b[0;32m      4\u001b[0m \u001b[38;5;66;03m# joints_dict = joints_to_json(detection_result.pose_world_landmarks)\u001b[39;00m\n",
      "File \u001b[1;32me:\\Job\\Hobby\\diploma\\3d_pose_maker\\pose_detector\\utils\\tools.py:6\u001b[0m\n\u001b[0;32m      2\u001b[0m \u001b[38;5;28;01mimport\u001b[39;00m \u001b[38;5;21;01mnumpy\u001b[39;00m \u001b[38;5;28;01mas\u001b[39;00m \u001b[38;5;21;01mnp\u001b[39;00m\n\u001b[0;32m      4\u001b[0m \u001b[38;5;28;01mimport\u001b[39;00m \u001b[38;5;21;01mjson\u001b[39;00m\n\u001b[1;32m----> 6\u001b[0m \u001b[38;5;28;01mfrom\u001b[39;00m \u001b[38;5;21;01mcfg_load\u001b[39;00m \u001b[38;5;28;01mimport\u001b[39;00m cfg\n\u001b[0;32m      8\u001b[0m \u001b[38;5;28;01mdef\u001b[39;00m \u001b[38;5;21mvideo_to_frames\u001b[39m():\n\u001b[0;32m     11\u001b[0m     \u001b[38;5;28;01mreturn\u001b[39;00m \u001b[38;5;241m0\u001b[39m\n",
      "\u001b[1;31mModuleNotFoundError\u001b[0m: No module named 'cfg_load'"
     ]
    }
   ],
   "source": [
    "from utils.tools import joints_to_json\n",
    "from utils.cfg_load import cfg\n",
    "\n",
    "# joints_dict = joints_to_json(detection_result.pose_world_landmarks)"
   ]
  },
  {
   "cell_type": "code",
   "execution_count": 57,
   "metadata": {},
   "outputs": [
    {
     "ename": "KeyError",
     "evalue": "'landmarks_result'",
     "output_type": "error",
     "traceback": [
      "\u001b[1;31m---------------------------------------------------------------------------\u001b[0m",
      "\u001b[1;31mKeyError\u001b[0m                                  Traceback (most recent call last)",
      "Cell \u001b[1;32mIn[57], line 3\u001b[0m\n\u001b[0;32m      1\u001b[0m \u001b[38;5;28;01mimport\u001b[39;00m \u001b[38;5;21;01mjson\u001b[39;00m\n\u001b[1;32m----> 3\u001b[0m joints_coord_path \u001b[38;5;241m=\u001b[39m \u001b[43mcfg\u001b[49m\u001b[43m[\u001b[49m\u001b[38;5;124;43m'\u001b[39;49m\u001b[38;5;124;43mpaths\u001b[39;49m\u001b[38;5;124;43m'\u001b[39;49m\u001b[43m]\u001b[49m\u001b[43m[\u001b[49m\u001b[38;5;124;43m'\u001b[39;49m\u001b[38;5;124;43mlandmarks_result\u001b[39;49m\u001b[38;5;124;43m'\u001b[39;49m\u001b[43m]\u001b[49m \u001b[38;5;241m+\u001b[39m \u001b[38;5;124m'\u001b[39m\u001b[38;5;132;01m{0}\u001b[39;00m\u001b[38;5;124m_joint_coords.json\u001b[39m\u001b[38;5;124m'\u001b[39m\u001b[38;5;241m.\u001b[39mformat(filename_prefix)\n\u001b[0;32m      4\u001b[0m \u001b[38;5;28;01mwith\u001b[39;00m \u001b[38;5;28mopen\u001b[39m(joints_coord_path, \u001b[38;5;124m'\u001b[39m\u001b[38;5;124mw\u001b[39m\u001b[38;5;124m'\u001b[39m) \u001b[38;5;28;01mas\u001b[39;00m outfile:\n\u001b[0;32m      5\u001b[0m     json\u001b[38;5;241m.\u001b[39mdump(joint_coord, outfile, indent\u001b[38;5;241m=\u001b[39m\u001b[38;5;241m4\u001b[39m)\n",
      "\u001b[1;31mKeyError\u001b[0m: 'landmarks_result'"
     ]
    }
   ],
   "source": [
    "import json\n",
    "\n",
    "joints_coord_path = cfg['paths']['landmarks_result'] + '{0}_joint_coords.json'.format(filename_prefix)\n",
    "with open(joints_coord_path, 'w') as outfile:\n",
    "    json.dump(joint_coord, outfile, indent=4)"
   ]
  },
  {
   "cell_type": "markdown",
   "metadata": {},
   "source": [
    "### OPENCV"
   ]
  },
  {
   "cell_type": "code",
   "execution_count": 5,
   "metadata": {},
   "outputs": [],
   "source": [
    "import time"
   ]
  },
  {
   "cell_type": "code",
   "execution_count": 15,
   "metadata": {},
   "outputs": [
    {
     "ename": "AttributeError",
     "evalue": "'numpy.ndarray' object has no attribute 'type'",
     "output_type": "error",
     "traceback": [
      "\u001b[1;31m---------------------------------------------------------------------------\u001b[0m",
      "\u001b[1;31mAttributeError\u001b[0m                            Traceback (most recent call last)",
      "Cell \u001b[1;32mIn[15], line 17\u001b[0m\n\u001b[0;32m     15\u001b[0m \u001b[38;5;66;03m# Use here pose detector\u001b[39;00m\n\u001b[0;32m     16\u001b[0m gray \u001b[38;5;241m=\u001b[39m cv\u001b[38;5;241m.\u001b[39mcvtColor(frame, cv\u001b[38;5;241m.\u001b[39mCOLOR_BGR2GRAY)\n\u001b[1;32m---> 17\u001b[0m \u001b[43mframe\u001b[49m\u001b[38;5;241;43m.\u001b[39;49m\u001b[43mtype\u001b[49m()\n\u001b[0;32m     18\u001b[0m gray\u001b[38;5;241m.\u001b[39mtype()\n\u001b[0;32m     19\u001b[0m out\u001b[38;5;241m.\u001b[39mwrite(gray)\n",
      "\u001b[1;31mAttributeError\u001b[0m: 'numpy.ndarray' object has no attribute 'type'"
     ]
    }
   ],
   "source": [
    "\n",
    "# Video. Converting to gray example\n",
    "video_path = \"../\" + cfg['paths']['media']\n",
    "cap = cv.VideoCapture(video_path + \"001_Test.mp4\")\n",
    "fourcc = cv.VideoWriter_fourcc(*\"VIDX\")\n",
    "out = cv.VideoWriter(video_path + \"001_Test_Gray.mp4\", fourcc, 25.0, (640, 480))\n",
    "fps = cap.get(cv.CAP_PROP_FPS)\n",
    "\n",
    "while cap.isOpened():\n",
    "    ret, frame = cap.read()\n",
    "    time.sleep(0.001)\n",
    "    if not ret:\n",
    "        print(\"Can't recive frame. Exitting...\")\n",
    "        break\n",
    "    \n",
    "    # Use here pose detector\n",
    "    gray = cv.cvtColor(frame, cv.COLOR_BGR2GRAY)\n",
    "    frame.type()\n",
    "    gray.type()\n",
    "    out.write(gray)\n",
    "\n",
    "    cv.imshow('frame', gray)\n",
    "    if cv.waitKey(1) == ord('q'):\n",
    "        print(\"Frame recieving stopped\")\n",
    "        break\n",
    "\n",
    "cv.waitKey(0)\n",
    "\n",
    "cap.release()\n",
    "out.release()\n",
    "cv.destroyAllWindows()\n"
   ]
  },
  {
   "cell_type": "code",
   "execution_count": null,
   "metadata": {},
   "outputs": [],
   "source": [
    "import __future__ "
   ]
  }
 ],
 "metadata": {
  "kernelspec": {
   "display_name": "mediapipe_env",
   "language": "python",
   "name": "python3"
  },
  "language_info": {
   "codemirror_mode": {
    "name": "ipython",
    "version": 3
   },
   "file_extension": ".py",
   "mimetype": "text/x-python",
   "name": "python",
   "nbconvert_exporter": "python",
   "pygments_lexer": "ipython3",
   "version": "3.10.11"
  }
 },
 "nbformat": 4,
 "nbformat_minor": 2
}
